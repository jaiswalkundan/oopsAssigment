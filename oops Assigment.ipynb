{
 "cells": [
  {
   "cell_type": "code",
   "execution_count": null,
   "id": "ab129551-675f-4a40-ba5d-3ee6df42683f",
   "metadata": {},
   "outputs": [],
   "source": [
    "Q1, Create a vehicle class with an init method having instance variables as name_of_vehicle, max_speed\n",
    "and average_of_vehicle."
   ]
  },
  {
   "cell_type": "code",
   "execution_count": 1,
   "id": "b6f2e58a-800e-444c-995c-531c757f6d29",
   "metadata": {},
   "outputs": [],
   "source": [
    "class Vehicle:\n",
    "    def __init__(self,name_of_vehicle,max_speed,average_of_vehicle):\n",
    "        self._name_of_vehicle=name_of_vehicle\n",
    "        self._max_speed=max_speed\n",
    "        self._average_of_vehicle=average_of_vehicle\n",
    "        \n",
    "        "
   ]
  },
  {
   "cell_type": "code",
   "execution_count": 2,
   "id": "31ea2a2c-b552-486a-895d-d9e63e3bcea4",
   "metadata": {},
   "outputs": [],
   "source": [
    "car=Vehicle(\"Toyota Camary\",200,25)"
   ]
  },
  {
   "cell_type": "code",
   "execution_count": null,
   "id": "1f870b86-dd63-4d35-aa1a-552225c8e7e5",
   "metadata": {},
   "outputs": [],
   "source": [
    "Q2. Create a child class car from the vehicle class created in Que 1, which will inherit the vehicle class.\n",
    "Create a method named seating_capacity which takes capacity as an argument and returns the name of\n",
    "the vehicle and its seating capacity."
   ]
  },
  {
   "cell_type": "code",
   "execution_count": 8,
   "id": "cc575c0f-f1c9-4fa1-b5f9-455f40bc31dd",
   "metadata": {},
   "outputs": [
    {
     "name": "stdout",
     "output_type": "stream",
     "text": [
      "Toyota Camry has a seating capacity of \n"
     ]
    }
   ],
   "source": [
    "class Vehicle:\n",
    "    def __init__(self,name_of_vehicle,max_speed,average_of_vehicle):\n",
    "        self._name_of_vehicle=name_of_vehicle\n",
    "        self._max_speed=max_speed\n",
    "        self._average_of_vehicle=average_of_vehicle\n",
    "        \n",
    "class Car(Vehicle):\n",
    "    def seating_capacity(self,capcity):\n",
    "        return f\"{self._name_of_vehicle} has a seating capacity of \"\n",
    "    \n",
    "car_instance=Car(\"Toyota Camry\",200,25)\n",
    "result = car_instance.seating_capacity(5)\n",
    "print(result)        "
   ]
  },
  {
   "cell_type": "code",
   "execution_count": null,
   "id": "8f39d3f5-0556-41ee-a8aa-85a11413c6ca",
   "metadata": {},
   "outputs": [],
   "source": [
    "Q3. What is multiple inheritance? Write a python code to demonstrate multiple inheritance."
   ]
  },
  {
   "cell_type": "code",
   "execution_count": 13,
   "id": "a781c148-93d7-463e-8f31-62aafba6f069",
   "metadata": {},
   "outputs": [
    {
     "name": "stdout",
     "output_type": "stream",
     "text": [
      "Animal speaks\n"
     ]
    }
   ],
   "source": [
    "class Animal:\n",
    "    def speak(self):\n",
    "        return \"Animal speaks\"\n",
    "    \n",
    "class Mammal:\n",
    "    def milk(self):\n",
    "        return \"Mammal produce milk\"\n",
    "    \n",
    "class Dog(Animal, Mammal):\n",
    "    def bark(self):\n",
    "        return \"Dog barks\"\n",
    "    \n",
    "my_dog =Dog()\n",
    "\n",
    "print(my_dog.speak())"
   ]
  },
  {
   "cell_type": "code",
   "execution_count": 14,
   "id": "8b9442ff-cef5-48c4-b3c0-c30d4c4c5d80",
   "metadata": {},
   "outputs": [
    {
     "name": "stdout",
     "output_type": "stream",
     "text": [
      "Mammal produce milk\n"
     ]
    }
   ],
   "source": [
    "print(my_dog.milk())"
   ]
  },
  {
   "cell_type": "code",
   "execution_count": 15,
   "id": "0e47ac9b-4046-46d5-bc80-59bccc13f9f9",
   "metadata": {},
   "outputs": [
    {
     "name": "stdout",
     "output_type": "stream",
     "text": [
      "Dog barks\n"
     ]
    }
   ],
   "source": [
    "print(my_dog.bark())"
   ]
  },
  {
   "cell_type": "code",
   "execution_count": null,
   "id": "63a9375a-bc9b-4bba-8f78-0c9f49b3abc6",
   "metadata": {},
   "outputs": [],
   "source": [
    "Q4. What are getter and setter in python? Create a class and create a getter and a setter method in this\n",
    "class."
   ]
  },
  {
   "cell_type": "code",
   "execution_count": 17,
   "id": "8395cbe8-0e9f-4767-9bf9-7a4a793a5ebd",
   "metadata": {},
   "outputs": [],
   "source": [
    "class MyClass:\n",
    "    def __init__(self):\n",
    "        self._my_variable=None\n",
    "        \n",
    "    def get_my_variable(self):\n",
    "        return self._my_variable\n",
    "    def set_my_variable(self,value):\n",
    "        self._my_variable = value"
   ]
  },
  {
   "cell_type": "code",
   "execution_count": 19,
   "id": "9cf6f0f6-0ffd-4c82-a1b2-a90c4e7d55df",
   "metadata": {},
   "outputs": [],
   "source": [
    "my_instance=MyClass()\n",
    "my_instance.set_my_variable(42)\n",
    "result= my_instance.get_my_variable()"
   ]
  },
  {
   "cell_type": "code",
   "execution_count": 20,
   "id": "e4efb0d8-b611-4a8c-9fc7-b4fad88ad666",
   "metadata": {},
   "outputs": [
    {
     "name": "stdout",
     "output_type": "stream",
     "text": [
      "42\n"
     ]
    }
   ],
   "source": [
    "print(result)"
   ]
  },
  {
   "cell_type": "code",
   "execution_count": null,
   "id": "e9f6efdf-46c7-4476-80d0-a433d7b5eecc",
   "metadata": {},
   "outputs": [],
   "source": [
    "Q5.What is method overriding in python? Write a python code to demonstrate method overriding."
   ]
  },
  {
   "cell_type": "code",
   "execution_count": null,
   "id": "ae3e0715-8d79-4d64-9211-b52ef294cf08",
   "metadata": {},
   "outputs": [],
   "source": [
    "class Animal:\n",
    "    def speak(self):\n",
    "        return \"Animal speaks\"\n",
    "    \n",
    "class Dog(Animal):\n",
    "    def speak(self):\n",
    "        return \"Dog barks\"\n",
    "    \n",
    "class Cat(Animal):\n",
    "    def speak(self):\n",
    "        return \"Cat meows\"\n",
    "    \n",
    "animal_instance=Animal()\n",
    "\n",
    "dog_instance=Dog()\n",
    "cat_instance=Cat()\n",
    "\n",
    "print(animal_instance.speak())\n",
    "print(dog_instance.speak\n",
    "\n"
   ]
  },
  {
   "cell_type": "code",
   "execution_count": null,
   "id": "e8e5e2c8-5097-481b-a7de-a8397ace525c",
   "metadata": {},
   "outputs": [],
   "source": []
  }
 ],
 "metadata": {
  "kernelspec": {
   "display_name": "Python 3 (ipykernel)",
   "language": "python",
   "name": "python3"
  },
  "language_info": {
   "codemirror_mode": {
    "name": "ipython",
    "version": 3
   },
   "file_extension": ".py",
   "mimetype": "text/x-python",
   "name": "python",
   "nbconvert_exporter": "python",
   "pygments_lexer": "ipython3",
   "version": "3.10.8"
  }
 },
 "nbformat": 4,
 "nbformat_minor": 5
}
